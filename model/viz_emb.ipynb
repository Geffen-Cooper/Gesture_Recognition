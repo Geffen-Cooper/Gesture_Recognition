{
 "cells": [
  {
   "cell_type": "code",
   "execution_count": 15,
   "metadata": {},
   "outputs": [],
   "source": [
    "import torch\n",
    "from torchvision import datasets, transforms\n",
    "from torch.utils.data import Dataset, DataLoader\n",
    "import os\n",
    "import pandas as pd\n",
    "import matplotlib.pyplot as plt\n",
    "from scipy.signal import medfilt\n",
    "import numpy as np\n",
    "from datasets import *\n",
    "from models import *\n",
    "\n",
    "from torch.utils.tensorboard import SummaryWriter"
   ]
  },
  {
   "cell_type": "code",
   "execution_count": 16,
   "metadata": {},
   "outputs": [],
   "source": [
    "root_dir = \"../csvs/collected_data\"\n",
    "batch_size = 256\n",
    "transforms = transforms.Compose([\n",
    "        DataframeToNumpy(),\n",
    "        NormalizeAndFilter(median_filter=False),\n",
    "        ToTensor(),\n",
    "    ])\n",
    "    \n",
    "dataset = Gestures(root_dir, None, train=True)\n",
    "train_subset, val_subset = torch.utils.data.random_split(dataset, [int(len(dataset) * 0.9), len(dataset) - int(len(dataset) * .9)])\n",
    "train_set = SubsetWrapper(train_subset, transform=transforms)\n",
    "val_set = SubsetWrapper(val_subset, transform=transforms)\n",
    "test_set = Gestures(root_dir, transforms, train=False, test=True)\n",
    "\n",
    "# create the data loaders\n",
    "train_loader = DataLoader(train_set,batch_size=batch_size,shuffle=True,collate_fn=varying_length_collate_fn)\n",
    "val_loader = DataLoader(val_set,batch_size=batch_size,collate_fn=varying_length_collate_fn)\n",
    "test_loader = torch.utils.data.DataLoader(test_set, batch_size=batch_size,collate_fn=varying_length_collate_fn)"
   ]
  },
  {
   "cell_type": "code",
   "execution_count": 18,
   "metadata": {},
   "outputs": [
    {
     "data": {
      "text/plain": [
       "<torch.utils.hooks.RemovableHandle at 0x7f97501ea0a0>"
      ]
     },
     "execution_count": 18,
     "metadata": {},
     "output_type": "execute_result"
    }
   ],
   "source": [
    "model = RNNModel(63,256,1,25,device='cpu').to('cpu')\n",
    "# model_params = dict(input_dim=63, num_classes=25, num_heads=6, hidden_dim=276, num_layers=1)\n",
    "# model = TransformerClassifier(**model_params)#.to('cuda')\n",
    "model.load_state_dict(torch.load(\"models/collected.pth\")['model_state_dict'])\n",
    "model.eval()\n",
    "\n",
    "activation = {}\n",
    "activation['i'] = 0\n",
    "activation['emb'] = torch.zeros((125,256))\n",
    "def get_activation(name):\n",
    "    def hook(model, input, output):\n",
    "        activation['i'] += 1\n",
    "        activation[name] += input[0].detach()\n",
    "    return hook\n",
    "\n",
    "model.fc.register_forward_hook(get_activation('emb'))\n",
    "# model.transformer_feature_extractor.register_forward_hook(get_activation('emb'))"
   ]
  },
  {
   "cell_type": "code",
   "execution_count": 29,
   "metadata": {},
   "outputs": [],
   "source": [
    "import tensorflow as tf\n",
    "import tensorboard as tb\n",
    "tf.io.gfile = tb.compat.tensorflow_stub.io.gfile\n",
    "# init tensorboard\n",
    "writer = SummaryWriter()\n",
    "\n",
    "with torch.no_grad():\n",
    "    batch_imgs, batch_labels, _ = next(iter(test_loader))\n",
    "    preds = model(batch_imgs.to('cpu'))\n",
    "    embds = activation['emb'].squeeze(1).to('cpu')\n",
    "    embds /= activation['i']\n",
    "\n",
    "    # get the labels\n",
    "    batch_label_strings = []\n",
    "    for idx,label in enumerate(batch_labels):\n",
    "        batch_label_strings.append(str(label.item()))\n",
    "\n",
    "    writer.add_embedding(embds,metadata=batch_label_strings)#,label_img=batch_imgs)"
   ]
  },
  {
   "attachments": {},
   "cell_type": "markdown",
   "metadata": {},
   "source": [
    "transformer"
   ]
  },
  {
   "cell_type": "code",
   "execution_count": null,
   "metadata": {},
   "outputs": [],
   "source": [
    "import tensorflow as tf\n",
    "import tensorboard as tb\n",
    "tf.io.gfile = tb.compat.tensorflow_stub.io.gfile\n",
    "# init tensorboard\n",
    "writer = SummaryWriter()\n",
    "\n",
    "embds = torch.zeros((batch_size,276))\n",
    "with torch.no_grad():\n",
    "    batch_imgs, batch_labels, _ = next(iter(test_loader))\n",
    "    for i,img in enumerate(batch_imgs):\n",
    "        preds = model(img.unsqueeze(0))\n",
    "        embds[i,:] = activation['emb']\n",
    "\n",
    "    # get the labels\n",
    "    batch_label_strings = []\n",
    "    for idx,label in enumerate(batch_labels):\n",
    "        batch_label_strings.append(str(label.item()))\n",
    "\n",
    "    writer.add_embedding(embds,metadata=batch_label_strings)#,label_img=batch_imgs)"
   ]
  }
 ],
 "metadata": {
  "kernelspec": {
   "display_name": "hs",
   "language": "python",
   "name": "python3"
  },
  "language_info": {
   "codemirror_mode": {
    "name": "ipython",
    "version": 3
   },
   "file_extension": ".py",
   "mimetype": "text/x-python",
   "name": "python",
   "nbconvert_exporter": "python",
   "pygments_lexer": "ipython3",
   "version": "3.9.16"
  },
  "orig_nbformat": 4
 },
 "nbformat": 4,
 "nbformat_minor": 2
}
